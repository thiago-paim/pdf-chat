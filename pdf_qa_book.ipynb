{
 "cells": [
  {
   "cell_type": "markdown",
   "id": "d455a911-9391-4569-ac14-2538dc2c8a6e",
   "metadata": {},
   "source": [
    "Source: https://github.com/samwit/langchain-tutorials/blob/main/RAG/YT_Chat_your_PDFs_Langchain_Template_for_creating.ipynb"
   ]
  },
  {
   "cell_type": "code",
   "execution_count": 1,
   "id": "3c8f1061-0cba-419c-9006-fa3b65c31cf6",
   "metadata": {},
   "outputs": [],
   "source": [
    "# Loads .env variables\n",
    "%load_ext dotenv\n",
    "%dotenv"
   ]
  },
  {
   "cell_type": "markdown",
   "id": "b7ff3bee-7666-4f95-90b0-6a8a8b39da8f",
   "metadata": {},
   "source": [
    "## Basic Chat PDF"
   ]
  },
  {
   "cell_type": "markdown",
   "id": "afd8b963-28d9-4e9a-bf53-86d250ba2b1b",
   "metadata": {},
   "source": [
    "We'll use `CharacterTextSplitter` to split the document into chunks, then convert these chunks into embeddings with `OpenAIEmbeddings`, and finally store these embedding vectors with `FAISS` to perform similarity searches\n",
    "\n",
    "**[OpenAIEmbeddings](https://api.python.langchain.com/en/latest/embeddings/langchain.embeddings.openai.OpenAIEmbeddings.html)**\n",
    "* OpenAI embedding model, necessary when using other OpenAI models\n",
    "* [OpenAI Embeddings docs](https://platform.openai.com/docs/guides/embeddings/what-are-embeddings)\n",
    "\n",
    "\n",
    "**[FAISS (Facebook AI Similarity Search)](https://python.langchain.com/docs/integrations/vectorstores/faiss):**\n",
    "* Library for efficient similarity search and clustering of dense vectors.\n",
    "* It contains algorithms that search in sets of vectors of any size, up to ones that possibly do not fit in RAM.\n",
    "* It also contains supporting code for evaluation and parameter tuning.\n",
    "* [FAISS article](https://engineering.fb.com/2017/03/29/data-infrastructure/faiss-a-library-for-efficient-similarity-search/)"
   ]
  },
  {
   "cell_type": "code",
   "execution_count": 2,
   "id": "82c9aadb-c249-4733-bd84-e40d052207e5",
   "metadata": {},
   "outputs": [],
   "source": [
    "from PyPDF2 import PdfReader\n",
    "from langchain.embeddings.openai import OpenAIEmbeddings\n",
    "from langchain.text_splitter import CharacterTextSplitter\n",
    "from langchain.vectorstores import FAISS \n",
    "from tqdm import tqdm"
   ]
  },
  {
   "cell_type": "markdown",
   "id": "b5ba07f3-15c8-49cf-9b3b-17d80c9be8a7",
   "metadata": {},
   "source": [
    "## Reading the PDF"
   ]
  },
  {
   "cell_type": "code",
   "execution_count": 3,
   "id": "680f325d-5d59-4c5e-991a-d6a3c8233410",
   "metadata": {},
   "outputs": [
    {
     "data": {
      "text/plain": [
       "<PyPDF2._reader.PdfReader at 0x7f424ff9e8e0>"
      ]
     },
     "execution_count": 3,
     "metadata": {},
     "output_type": "execute_result"
    }
   ],
   "source": [
    "# file_name = \"Rodolitos_recifes_peixes.pdf\"\n",
    "# file_name = \"Bianchi, 2021_Estimating global biomass fishing_Science.pdf\"\n",
    "file_name = \"LivroIntroducaoCienciasDoMar.pdf\"\n",
    "\n",
    "doc_reader = PdfReader(f\"./articles/{file_name}\")\n",
    "doc_reader"
   ]
  },
  {
   "cell_type": "code",
   "execution_count": 5,
   "id": "c5f9d40b-7c14-4635-af6a-f73138871de7",
   "metadata": {},
   "outputs": [
    {
     "name": "stderr",
     "output_type": "stream",
     "text": [
      "100%|███████████████████████████████████████████████████████████████████████████████████████████████████████████████████████████████████████████████████████████████████████████████████████████████████████████████████████| 603/603 [00:50<00:00, 12.00it/s]"
     ]
    },
    {
     "name": "stdout",
     "output_type": "stream",
     "text": [
      "603 pages merged into 1158200 characters\n"
     ]
    },
    {
     "name": "stderr",
     "output_type": "stream",
     "text": [
      "\n"
     ]
    }
   ],
   "source": [
    "# read data from the file and put them into a variable called raw_text\n",
    "raw_text = ''\n",
    "for i, page in enumerate(tqdm(doc_reader.pages)):\n",
    "    text = page.extract_text()\n",
    "    if text:\n",
    "        raw_text += text\n",
    "\n",
    "print(f\"{i+1} pages merged into {len(raw_text)} characters\")"
   ]
  },
  {
   "cell_type": "code",
   "execution_count": 6,
   "id": "6574bc07-45e1-4325-8d28-2c13703ff72b",
   "metadata": {},
   "outputs": [
    {
     "name": "stdout",
     "output_type": "stream",
     "text": [
      "INTRODUÇÃO\n",
      "ÀS CIÊNCIAS DO MAR\n",
      "PPG-Mar\n",
      "1ª REIMPRESSÃOFoto: Projeto Amazônia AzulJORGE  P. C ASTELLO  E LUIZ C. K RUG\n",
      "ORGANIZADORES\n",
      "Carla Rosana de Castro Aseff\n",
      "Danilo Calazans\n",
      "Débora Copstein Cuchiara\n",
      "Elisa Helena Leão Fernandes\n",
      "Frederico Pereira Brandini\n",
      "Gilberto Henrique Griep\n",
      "Iran Carlos Stalliviere Corrêa\n",
      "Jair Weschenfelder\n",
      "Jean Louis Valentin\n",
      "José Angel Alvarez Perez\n",
      "José Henrique Muelbert\n",
      "Joseph Harari\n",
      "Lauro Julio CalliariLúcio Franco de Sá Fernandes\n",
      "Luis Felipe Hax Niencheski\n",
      "Marcus Polette\n",
      "Milton Lafourcade Asmus\n",
      "Moysés Gonzalez Tessler\n",
      "Osmar Olinto Möller Jr.\n",
      "Paulo Cesar Oliveira Vergne de Abreu\n",
      "Paulo da Cunha Lana\n",
      "Regina Rodrigues\n",
      "Ricardo de Camargo\n",
      "Ronaldo Oliveira Cavalli\n",
      "Xavier CastelloCOLABORADORES\n",
      "EDITORA TEXTOS\n",
      "Pelotas, 2017INTRODUÇÃO\n",
      "ÀS CIÊNCIAS DO MAR\n",
      "REVISOR  CIENTÍFICO\n",
      "Danilo Calazans\n",
      "ILUSTRAÇÕES\n",
      "Kely Martinato© Copyright  Jorge P. Castello e Luiz C. Krug, 2017\n",
      "EDITORA  TEXTOS\n",
      "www.editoratextos.com.br\n",
      "E-mail: contato@editoratextos.com.br\n",
      "Fone: (53) 99143-8460\n",
      "Pelotas\n"
     ]
    }
   ],
   "source": [
    "print(raw_text[:1000])"
   ]
  },
  {
   "cell_type": "markdown",
   "id": "947dc2a5-1319-42df-877d-42c311b56f8c",
   "metadata": {},
   "source": [
    "## Text Splitter\n",
    "\n",
    "Takes the full text and splits it into chunks, for indexing. The chunk size is measured in characters, not tokens"
   ]
  },
  {
   "cell_type": "code",
   "execution_count": 7,
   "id": "0833fc9e-50ac-44ce-9bc1-21955bded8e4",
   "metadata": {},
   "outputs": [
    {
     "name": "stderr",
     "output_type": "stream",
     "text": [
      "Created a chunk of size 1076, which is longer than the specified 1000\n",
      "Created a chunk of size 1084, which is longer than the specified 1000\n",
      "Created a chunk of size 1014, which is longer than the specified 1000\n",
      "Created a chunk of size 1014, which is longer than the specified 1000\n",
      "Created a chunk of size 1178, which is longer than the specified 1000\n",
      "Created a chunk of size 1506, which is longer than the specified 1000\n",
      "Created a chunk of size 1039, which is longer than the specified 1000\n",
      "Created a chunk of size 1103, which is longer than the specified 1000\n",
      "Created a chunk of size 1191, which is longer than the specified 1000\n",
      "Created a chunk of size 1054, which is longer than the specified 1000\n",
      "Created a chunk of size 1289, which is longer than the specified 1000\n",
      "Created a chunk of size 1155, which is longer than the specified 1000\n",
      "Created a chunk of size 1040, which is longer than the specified 1000\n",
      "Created a chunk of size 1189, which is longer than the specified 1000\n",
      "Created a chunk of size 1488, which is longer than the specified 1000\n",
      "Created a chunk of size 1049, which is longer than the specified 1000\n",
      "Created a chunk of size 1564, which is longer than the specified 1000\n",
      "Created a chunk of size 1042, which is longer than the specified 1000\n",
      "Created a chunk of size 1020, which is longer than the specified 1000\n",
      "Created a chunk of size 1262, which is longer than the specified 1000\n",
      "Created a chunk of size 1138, which is longer than the specified 1000\n",
      "Created a chunk of size 1114, which is longer than the specified 1000\n",
      "Created a chunk of size 1391, which is longer than the specified 1000\n",
      "Created a chunk of size 1105, which is longer than the specified 1000\n",
      "Created a chunk of size 1010, which is longer than the specified 1000\n"
     ]
    },
    {
     "data": {
      "text/plain": [
       "1506"
      ]
     },
     "execution_count": 7,
     "metadata": {},
     "output_type": "execute_result"
    }
   ],
   "source": [
    "text_splitter = CharacterTextSplitter(        \n",
    "    separator = \"\\n\",\n",
    "    chunk_size = 1000,\n",
    "    chunk_overlap  = 200, # text overlap between chunks\n",
    "    length_function = len,\n",
    ")\n",
    "texts = text_splitter.split_text(raw_text)\n",
    "\n",
    "len(texts)"
   ]
  },
  {
   "cell_type": "code",
   "execution_count": 8,
   "id": "fd570f14-127f-4a3d-bc5f-3e173df5f54d",
   "metadata": {},
   "outputs": [
    {
     "name": "stdout",
     "output_type": "stream",
     "text": [
      "O conhecimento da topografia submarina é fundamental para o geólogo marinho,\n",
      "uma vez que lhe dará informações sobre a estrutura, a história tectônica, deposicional,erosiva e mesmo a origem das bacias oceânicas.\n",
      "2  M ARGEM  CONTINENTAL\n",
      "As margens continentais englobam as províncias fisiográficas que se associam à\n",
      "passagem dos continentes para os oceanos. Com base em critérios tectônicos, é possívelreconhecer dois tipos de margens continentais: tipo Atlântico (ou passiva), comcomportamento tectônico estável por um longo período de tempo; e tipo Pacífico(ou ativa), com tectonismo ativo durante os últimos períodos geológicos.\n",
      "As margens continentais do tipo Atlântico são características das margens dos\n",
      "Oceanos Atlântico (com exceção das Antilhas), Índico (com exceção do arco de\n",
      "Foto: Projeto Amazônia Azul46 IRAN CARLOS  STALLIVIERE  CORRÊA  E JAIR WESCHENFELDER\n",
      "JORGE  P. C ASTELLO  E LUIZ C. K RUG  (O RG.)Sunda), Antártico (com exceção do arco de Scotia), Ártico e do mar da Noruega.\n"
     ]
    }
   ],
   "source": [
    "print(texts[101])"
   ]
  },
  {
   "cell_type": "markdown",
   "id": "2a2e89b1-f631-41db-b486-a99a0d652d30",
   "metadata": {},
   "source": [
    "## Making the embeddings"
   ]
  },
  {
   "cell_type": "code",
   "execution_count": 9,
   "id": "636689bd-26d9-4198-a19e-8133f52da826",
   "metadata": {},
   "outputs": [],
   "source": [
    "# Download embeddings from OpenAI\n",
    "embeddings = OpenAIEmbeddings()"
   ]
  },
  {
   "cell_type": "code",
   "execution_count": 11,
   "id": "f8224fa5-7ca4-467b-877f-6b1063728805",
   "metadata": {},
   "outputs": [],
   "source": [
    "# Creates a FAISS vector store using the article chunks and the OpenAI embeddding\n",
    "docsearch = FAISS.from_texts(texts, embeddings)"
   ]
  },
  {
   "cell_type": "code",
   "execution_count": 12,
   "id": "b9d443c2-85c5-453b-954d-522f641f7761",
   "metadata": {},
   "outputs": [
    {
     "data": {
      "text/plain": [
       "4"
      ]
     },
     "execution_count": 12,
     "metadata": {},
     "output_type": "execute_result"
    }
   ],
   "source": [
    "query = \"Talude continental\"\n",
    "docs = docsearch.similarity_search(query)\n",
    "\n",
    "len(docs)"
   ]
  },
  {
   "cell_type": "code",
   "execution_count": 13,
   "id": "1dffcbbe-bdb7-4613-a140-43269b0eea7f",
   "metadata": {},
   "outputs": [
    {
     "data": {
      "text/plain": [
       "[Document(page_content='fundos abissais de área de clima tropical/equatorial (Brasil).\\n[Fonte: T ESSLER  e MAHIQUES , 2000].\\n56 IRAN CARLOS  STALLIVIERE  CORRÊA  E JAIR WESCHENFELDER\\nJORGE  P. C ASTELLO  E LUIZ C. K RUG  (O RG.)4  T ALUDE  CONTINENTAL\\nO talude continental corresponde à parte da margem continental que apresenta\\nmergulho acentuado (1:40 – 25 m/km) e que se estende a partir da borda da plataforma\\ncontinental (F IG. 3.11). O topo do talude continental é marcado por uma mudança', metadata={}),\n",
       " Document(page_content=\"mergulho acentuado (1:40 – 25 m/km) e que se estende a partir da borda da plataforma\\ncontinental (F IG. 3.11). O topo do talude continental é marcado por uma mudança\\nbrusca no declive (quebra da plataforma), enquanto o pé do talude (talude inferior)possui declive mais suave, passando gradativamente para a elevação continental.Proporcionalmente, o talude continental constitui a porção mais íngreme do pisomarinho. Apresenta sensíveis variações de gradiente, desde 1:2 até 1:40 (26° até 1°26');sua inclinação média é de 4°17' (75 m/km), e a largura pode variar de pouco mais de10 km até 200 km, quando não interrompido por platôs marginais. Normalmente ostaludes vão desde as profundidades de 100-200 m até 1.300-3.200 m, mas em áreasonde se estendem pelas fossas oceânicas, podem atingir 8.200 m.\\nO talude apresenta-se bastante dissecado, recortado por inúmeras irregularidades\", metadata={}),\n",
       " Document(page_content='Valley\\nColinas\\nabissais57 FISIOGRAFIA  DO FUNDO  OCEÂNICO\\nINTRODUÇÃO  ÀS CIÊNCIAS  DO MAR5  E LEVAÇÃO  CONTINENTAL\\nA elevação continental (sopé, soleira), quando presente, situa-se na base do talude.\\nOs gradientes típicos estão entre 1:100 e 1:800 (10 m/km a 1,25 m/km), podendo\\nchegar a 1:50 (20 m/km), entretanto o valor médio fica em 1:150 (6,5 m/km). Situa-se em profundidades que variam de 1.300 a 4.000 m, na parte superior, indo até 5.000a 6.000 m, na parte inferior. A largura pode variar de 200 a 300 km e pode sersubdividida em elevação continental superior e inferior (F\\nIG. 3.10 e 3.11).\\nTopograficamente, a elevação continental é bastante suave, com poucas irregularidades(ondulações), que dificilmente ultrapassam 200 m de relevo. Ocasionalmente, apresentaum bom número de montes submarinos ( Seamounts ), frequentemente dispostos segundo', metadata={}),\n",
       " Document(page_content='O talude apresenta-se bastante dissecado, recortado por inúmeras irregularidades\\ntopográficas. Entre as feições morfológicas mais importantes encontram-se os cânionssubmarinos. Além destes, outros acidentes topográficos comumente encontrados sãoas cristas e saliências rochosas (afloramentos de rochas principalmente do Terciário),as ravinas, os terraços e as escarpas. A maioria dos terraços e escarpas do taluderelacionam-se a efeitos de deslizamento de sedimentos ( slumping ), afloramentos de\\nrochas ou falhamentos (terraços estruturais).\\nFigura 3.11  Fisiografia oceânica (sem correlação de escala).Plataforma\\ncontinentalGuyotTalude\\ncontinental\\nElevação\\ncontinentalMontes\\nsubmarinos\\nPlanície\\nabissalBacia\\noceânicaCordilheira\\nMeso-OceânicaPlataforma\\ncontinental\\nFossa\\noceânicaRift\\nValley\\nColinas\\nabissais57 FISIOGRAFIA  DO FUNDO  OCEÂNICO\\nINTRODUÇÃO  ÀS CIÊNCIAS  DO MAR5  E LEVAÇÃO  CONTINENTAL\\nA elevação continental (sopé, soleira), quando presente, situa-se na base do talude.', metadata={})]"
      ]
     },
     "execution_count": 13,
     "metadata": {},
     "output_type": "execute_result"
    }
   ],
   "source": [
    "docs"
   ]
  },
  {
   "cell_type": "markdown",
   "id": "f9d73cd5-51f9-4815-894a-1e7948dcefe6",
   "metadata": {},
   "source": [
    "## Plain QA Chain"
   ]
  },
  {
   "cell_type": "code",
   "execution_count": 14,
   "id": "441c95f5-743a-4238-866c-14bf77c09de0",
   "metadata": {},
   "outputs": [],
   "source": [
    "from langchain.chains.question_answering import load_qa_chain\n",
    "from langchain.chat_models import ChatOpenAI\n",
    "from langchain.prompts import PromptTemplate"
   ]
  },
  {
   "cell_type": "code",
   "execution_count": 15,
   "id": "5fc999bc-543d-4cc2-b508-b9d1b167a587",
   "metadata": {},
   "outputs": [],
   "source": [
    "llm = ChatOpenAI(\n",
    "    model_name=\"gpt-3.5-turbo\",  # default model is being deprecated and is more expensive\n",
    "    temperature=0\n",
    ")\n",
    "\n",
    "chain = load_qa_chain(\n",
    "    llm, \n",
    "    chain_type=\"stuff\"\n",
    ")"
   ]
  },
  {
   "cell_type": "code",
   "execution_count": 16,
   "id": "9d80cd01-9995-431c-bd4d-52b0025a0358",
   "metadata": {},
   "outputs": [
    {
     "data": {
      "text/plain": [
       "ChatPromptTemplate(input_variables=['context', 'question'], output_parser=None, partial_variables={}, messages=[SystemMessagePromptTemplate(prompt=PromptTemplate(input_variables=['context'], output_parser=None, partial_variables={}, template=\"Use the following pieces of context to answer the users question. \\nIf you don't know the answer, just say that you don't know, don't try to make up an answer.\\n----------------\\n{context}\", template_format='f-string', validate_template=True), additional_kwargs={}), HumanMessagePromptTemplate(prompt=PromptTemplate(input_variables=['question'], output_parser=None, partial_variables={}, template='{question}', template_format='f-string', validate_template=True), additional_kwargs={})])"
      ]
     },
     "execution_count": 16,
     "metadata": {},
     "output_type": "execute_result"
    }
   ],
   "source": [
    "# check the default LLM chain prompt\n",
    "chain.llm_chain.prompt"
   ]
  },
  {
   "cell_type": "code",
   "execution_count": 17,
   "id": "2018858f-6e52-4613-8da0-a4798a502b78",
   "metadata": {},
   "outputs": [
    {
     "name": "stderr",
     "output_type": "stream",
     "text": [
      "Retrying langchain.chat_models.openai.ChatOpenAI.completion_with_retry.<locals>._completion_with_retry in 4.0 seconds as it raised RateLimitError: You exceeded your current quota, please check your plan and billing details. For more information on this error, read the docs: https://platform.openai.com/docs/guides/error-codes/api-errors..\n"
     ]
    },
    {
     "name": "stdout",
     "output_type": "stream",
     "text": [
      "\n",
      "O que são plataformas de zonas intermediárias?\n",
      "\n",
      "Plataformas de zonas intermediárias são encontradas entre as latitudes de 55º e 45º. Elas apresentam uma maior importância das formações fluviais, colmatação dos lutitos, pelitos e sedimentos finos eólicos (loess), retrabalhamento de areias, dunas submarinas longitudinais formadas pelas correntes de marés, superfícies rochosas do substrato erodidas pelas correntes e desenvolvimento de depósitos de vasas. Além disso, podem apresentar formas paleocársticas nas superfícies.\n",
      "\n"
     ]
    }
   ],
   "source": [
    "# query = \"What is the article about?\"\n",
    "query = \"\\nO que são plataformas de zonas intermediárias?\"\n",
    "\n",
    "docs = docsearch.similarity_search(query)\n",
    "answer = chain.run(input_documents=docs, question=query)\n",
    "print(f\"{query}\\n\")\n",
    "print(f\"{answer}\\n\")"
   ]
  },
  {
   "cell_type": "code",
   "execution_count": 18,
   "id": "d0ae3303-0c13-48a6-a317-cad95b82b1cc",
   "metadata": {},
   "outputs": [
    {
     "name": "stdout",
     "output_type": "stream",
     "text": [
      "\n",
      "Sumarize principais características do Talude Continental\n",
      "\n",
      "O talude continental é a parte da margem continental que apresenta um mergulho acentuado, com declives que variam de 1:2 até 1:40. Sua inclinação média é de 4°17' e sua largura pode variar de pouco mais de 10 km até 200 km. O talude é bastante dissecado, com inúmeras irregularidades topográficas, como cânions submarinos, cristas e saliências rochosas, ravinas, terraços e escarpas. A maioria dos terraços e escarpas do talude são resultado de deslizamento de sedimentos, afloramentos de rochas ou falhamentos. O talude continental pode atingir profundidades de 100-200 m até 1.300-3.200 m, e em áreas onde se estendem pelas fossas oceânicas, pode chegar a 8.200 m.\n",
      "\n",
      "\n",
      "Sumarize principais características do Talude Continental\n",
      "\n",
      "O Talude Continental é uma área submarina que se estende desde a plataforma continental até as grandes profundidades oceânicas. Suas principais características incluem uma inclinação acentuada, geralmente entre 3 e 5 graus, e uma grande quantidade de sedimentos acumulados. O Talude Continental também pode apresentar canyons submarinos, formados pela erosão dos sedimentos ao longo do tempo. Além disso, é uma região rica em biodiversidade, abrigando uma variedade de espécies marinhas.\n",
      "\n"
     ]
    }
   ],
   "source": [
    "query = \"\\nSumarize principais características do Talude Continental\"\n",
    "docs = docsearch.similarity_search(query)\n",
    "\n",
    "# Ask ChatGPT the question sending the most similar pages as input_documents\n",
    "answer = chain.run(input_documents=docs, question=query)\n",
    "print(f\"{query}\\n\")\n",
    "print(f\"{answer}\\n\")\n",
    "\n",
    "# Ask ChatGPT the question without sending the input_documents\n",
    "answer = chain.run(input_documents=[], question=query)\n",
    "print(f\"{query}\\n\")\n",
    "print(f\"{answer}\\n\")"
   ]
  },
  {
   "cell_type": "markdown",
   "id": "a5af667f-23de-43de-a639-deb224f38f76",
   "metadata": {},
   "source": [
    "## Hugging Face model"
   ]
  },
  {
   "cell_type": "code",
   "execution_count": null,
   "id": "06afb8f5-2bd8-4a86-9b17-4609557524d1",
   "metadata": {},
   "outputs": [],
   "source": []
  }
 ],
 "metadata": {
  "kernelspec": {
   "display_name": "Python 3 (ipykernel)",
   "language": "python",
   "name": "python3"
  },
  "language_info": {
   "codemirror_mode": {
    "name": "ipython",
    "version": 3
   },
   "file_extension": ".py",
   "mimetype": "text/x-python",
   "name": "python",
   "nbconvert_exporter": "python",
   "pygments_lexer": "ipython3",
   "version": "3.8.13"
  }
 },
 "nbformat": 4,
 "nbformat_minor": 5
}
