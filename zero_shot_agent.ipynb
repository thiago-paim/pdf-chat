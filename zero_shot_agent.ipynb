{
 "cells": [
  {
   "cell_type": "markdown",
   "id": "31130ab4-8a90-49a8-9fbf-4e3c36cf0a41",
   "metadata": {},
   "source": [
    "# Setup\n",
    "\n",
    "Source: https://github.com/samwit/langchain-tutorials/blob/main/YT_Langchain_with_DuckDuckGo_Wikipedia_PythonREPL_Template.ipynb"
   ]
  },
  {
   "cell_type": "code",
   "execution_count": null,
   "id": "eebb6856-b08a-4350-87a7-e83d7117efda",
   "metadata": {},
   "outputs": [],
   "source": [
    "# Loads .env variables\n",
    "%load_ext dotenv\n",
    "%dotenv"
   ]
  },
  {
   "cell_type": "markdown",
   "id": "61d83a86-4017-42a9-b5e2-ce7af8a63009",
   "metadata": {},
   "source": [
    "## Wikipedia"
   ]
  },
  {
   "cell_type": "code",
   "execution_count": 6,
   "id": "05b1224d-158f-4a8f-b333-a61c6d2ec56d",
   "metadata": {},
   "outputs": [],
   "source": [
    "from langchain.utilities import WikipediaAPIWrapper"
   ]
  },
  {
   "cell_type": "code",
   "execution_count": 7,
   "id": "d5b9db67-8b11-4a3f-90ad-e3bd157a9778",
   "metadata": {},
   "outputs": [],
   "source": [
    "wikipedia = WikipediaAPIWrapper()"
   ]
  },
  {
   "cell_type": "code",
   "execution_count": 5,
   "id": "b4f2070c-4ac1-4fe5-a1f6-c3d7994e820e",
   "metadata": {},
   "outputs": [
    {
     "data": {
      "text/plain": [
       "'Page: Rhodolith\\nSummary: Rhodoliths (from Greek for red rocks) are colorful, unattached calcareous nodules, composed of crustose, benthic marine red algae that resemble coral. Rhodolith beds create biogenic habitat for diverse benthic communities. The rhodolithic growth habit has been attained by a number of unrelated coralline red algae, organisms that deposit calcium carbonate within their cell walls to form hard structures or nodules that resemble beds of coral. \\nRhodoliths do not attach themselves to the rocky seabed. Rather, they roll like tumbleweeds along the seafloor until they become too large in size to be mobilised by the prevailing wave and current regime. They may then become incorporated into a semi-continuous algal mat or form an algal build-up. While corals are animals that are both autotrophic (photosynthesize via their symbionts) or heterotrophic (feeding on plankton), rhodoliths produce energy solely through photosynthesis (i.e. they can only grow and survive in the photic zone of the ocean).\\nScientists believe rhodoliths have been present in the world\\'s oceans since at least the Eocene epoch, some 55 million years ago.\\n\\n\\n\\nPage: Coralline algae\\nSummary: Coralline algae are red algae in the order Corallinales. They are characterized by a thallus that is hard because of calcareous deposits contained within the cell walls. The colors of these algae are most typically pink, or some other shade of red, but some species can be purple, yellow, blue, white, or gray-green. Coralline algae play an important role in the ecology of coral reefs. Sea urchins, parrot fish, and limpets and chitons (both mollusks) feed on coralline algae. In the temperate Mediterranean Sea, coralline algae are the main builders of a typical algal reef, the Coralligène (\"coralligenous\"). Many are typically encrusting and rock-like, found in marine waters all over the world. Only one species lives in freshwater. Unattached specimens (maerl, rhodoliths) may form relatively smooth compact balls to warty or fruticose thalli.\\nA close look at almost any intertidal rocky shore or coral reef will reveal an abundance of pink to pinkish-grey patches, distributed throughout the rock surfaces. These patches of pink \"paint\" are actually living crustose coralline red algae. The red algae belong to the division Rhodophyta, within which the coralline algae form the order Corallinales. There are over 1600 described species of nongeniculate coralline algae.The corallines are presently grouped into two families on the basis of their reproductive structures.\\n\\n\\n\\nPage: Maerl\\nSummary: Maerl (also rhodolith) is a collective name for non-geniculate coralline red algae with a certain growth habit. Maerl grows at a rate of c. 1 mm per year. It accumulates as unattached particles and forms extensive beds in suitable sublittoral sites.  The term maerl originally refers to the branched growth form of Lemoine (1910) and rhodolith is a sedimentological or genetic term for both the nodular and branched growth forms (Basso et al., 2015).'"
      ]
     },
     "execution_count": 5,
     "metadata": {},
     "output_type": "execute_result"
    }
   ],
   "source": [
    "wikipedia.run('rhodolith')"
   ]
  },
  {
   "cell_type": "markdown",
   "id": "99a5ea8c-d671-4842-adec-8386b05df940",
   "metadata": {},
   "source": [
    "## REPL"
   ]
  },
  {
   "cell_type": "code",
   "execution_count": 8,
   "id": "d954181e-42bd-4a53-85d1-0f107b49a547",
   "metadata": {},
   "outputs": [],
   "source": [
    "from langchain.utilities import PythonREPL"
   ]
  },
  {
   "cell_type": "code",
   "execution_count": 9,
   "id": "c0a81a7a-8528-453c-a66e-328994f4fca5",
   "metadata": {},
   "outputs": [],
   "source": [
    "python_repl = PythonREPL()"
   ]
  },
  {
   "cell_type": "code",
   "execution_count": 8,
   "id": "5d9eec6e-209c-45f3-a1c4-0a1ccb7a1a37",
   "metadata": {},
   "outputs": [
    {
     "name": "stderr",
     "output_type": "stream",
     "text": [
      "Python REPL can execute arbitrary code. Use with caution.\n"
     ]
    },
    {
     "data": {
      "text/plain": [
       "'34\\n'"
      ]
     },
     "execution_count": 8,
     "metadata": {},
     "output_type": "execute_result"
    }
   ],
   "source": [
    "python_repl.run(\"print(17*2)\")"
   ]
  },
  {
   "cell_type": "markdown",
   "id": "caf23764-a386-4205-8e9e-0c7bc08a45fd",
   "metadata": {},
   "source": [
    "## DuckDuckGo"
   ]
  },
  {
   "cell_type": "code",
   "execution_count": 10,
   "id": "18feaeb5-a43c-406e-91f3-a977cb210aeb",
   "metadata": {},
   "outputs": [],
   "source": [
    "from langchain.tools import DuckDuckGoSearchRun"
   ]
  },
  {
   "cell_type": "code",
   "execution_count": 11,
   "id": "985e8813-37ac-45d6-9430-759c47b77113",
   "metadata": {},
   "outputs": [],
   "source": [
    "search = DuckDuckGoSearchRun()"
   ]
  },
  {
   "cell_type": "code",
   "execution_count": 17,
   "id": "25445f77-2f80-475b-b305-c429c4b51c08",
   "metadata": {},
   "outputs": [
    {
     "data": {
      "text/plain": [
       "\"Rhodolith. Characteristic mauve coloured rhodolith. Rhodoliths (from Greek for red rocks) are colorful, unattached calcareous nodules, composed of crustose, benthic marine red algae that resemble coral. Rhodolith beds create biogenic habitat for diverse benthic communities. The rhodolithic growth habit has been attained by a number of unrelated ... Rhodolith beds harbor a highly diverse associated biota. The Brazilian coast encompasses the world's largest rhodolith beds of the world that occur a Biogeographic patterns of marine fishes associated with rhodolith beds in the Southwestern Atlantic reveal an ecotone of biodiversity | SpringerLink Skip to main content Advertisement Log in Menu Rhodolith beds stand with kelp beds, seagrass meadows, and coralline algal reefs as one of the world's four largest macrophyte-dominated benthic communities. Geographic distribution of rhodolith beds is discontinuous, with large concentrations off Japan, Australia and the Gulf of California, as well as in the Mediterranean, North Atlantic ... Rhodolith beds are overlooked ecosystems of colorful algae mats (similar to corals) laying on the sea bottom of coastal regions around the world. Because of their 3D structure, innumerous species ... Rhodoliths are free-living structures composed mostly (>50 vol%) of non-geniculate coralline algae (Corallinales, Rhodophyta). As ecosystem engineers sensu Jones et al. (), they provide habitats for many organisms.Rhodolith beds are described as one of the 'big four' benthic communities dominated by macrophytes (Foster 2001) and can act as major-scale carbonate factories (Freiwald and ...\""
      ]
     },
     "execution_count": 17,
     "metadata": {},
     "output_type": "execute_result"
    }
   ],
   "source": [
    "search.run(\"rhodolith beds\")"
   ]
  },
  {
   "cell_type": "markdown",
   "id": "87e1afe7-50f5-4eee-8c7b-ff64d05023f4",
   "metadata": {},
   "source": [
    "# Putting them together"
   ]
  },
  {
   "cell_type": "code",
   "execution_count": 12,
   "id": "c4bb07b2-28c0-4221-8eba-36d1fd5b917f",
   "metadata": {},
   "outputs": [],
   "source": [
    "from langchain import OpenAI\n",
    "from langchain.tools import Tool\n",
    "\n",
    "llm = OpenAI(temperature=0)"
   ]
  },
  {
   "cell_type": "code",
   "execution_count": 13,
   "id": "5957a568-4a15-43c9-9a23-a6269813c6b0",
   "metadata": {},
   "outputs": [],
   "source": [
    "repl_tool = Tool(\n",
    "    name = \"Python REPL\",\n",
    "    func = python_repl.run,\n",
    "    description = \"useful for when you need to use python to answer a question. You should input python code\"\n",
    ")\n",
    "\n",
    "wikipedia_tool = Tool(\n",
    "    name='Wikipedia',\n",
    "    func= wikipedia.run,\n",
    "    description=\"Useful for when you need to look up a topic, country or person on wikipedia\"\n",
    ")\n",
    "\n",
    "duckduckgo_tool = Tool(\n",
    "    name='DuckDuckGo Search',\n",
    "    func= search.run,\n",
    "    description=\"Useful for when you need to do a search on the internet to find information that another tool can't find. be specific with your input.\"\n",
    ")\n",
    "\n",
    "tools = [repl_tool, wikipedia_tool, duckduckgo_tool]"
   ]
  },
  {
   "cell_type": "markdown",
   "id": "a81948f9-c5a5-4a44-9b4c-a620d6db22b0",
   "metadata": {},
   "source": [
    "# Using the Agents\n",
    "\n",
    "We'll use the tools with a Zero Shot Agent"
   ]
  },
  {
   "cell_type": "code",
   "execution_count": 14,
   "id": "18255dd9-1787-4396-8379-da45e693a9f7",
   "metadata": {},
   "outputs": [],
   "source": [
    "from langchain.agents import initialize_agent\n",
    "\n",
    "zero_shot_agent = initialize_agent(\n",
    "    agent=\"zero-shot-react-description\", \n",
    "    tools=tools, \n",
    "    llm=llm,\n",
    "    verbose=True,\n",
    "    max_iterations=3,\n",
    ")"
   ]
  },
  {
   "cell_type": "code",
   "execution_count": 15,
   "id": "46fd79de-0600-49c5-9c62-d6b352ee0a44",
   "metadata": {},
   "outputs": [
    {
     "name": "stdout",
     "output_type": "stream",
     "text": [
      "Answer the following questions as best you can. You have access to the following tools:\n",
      "\n",
      "Python REPL: useful for when you need to use python to answer a question. You should input python code\n",
      "Wikipedia: Useful for when you need to look up a topic, country or person on wikipedia\n",
      "DuckDuckGo Search: Useful for when you need to do a search on the internet to find information that another tool can't find. be specific with your input.\n",
      "\n",
      "Use the following format:\n",
      "\n",
      "Question: the input question you must answer\n",
      "Thought: you should always think about what to do\n",
      "Action: the action to take, should be one of [Python REPL, Wikipedia, DuckDuckGo Search]\n",
      "Action Input: the input to the action\n",
      "Observation: the result of the action\n",
      "... (this Thought/Action/Action Input/Observation can repeat N times)\n",
      "Thought: I now know the final answer\n",
      "Final Answer: the final answer to the original input question\n",
      "\n",
      "Begin!\n",
      "\n",
      "Question: {input}\n",
      "Thought:{agent_scratchpad}\n"
     ]
    }
   ],
   "source": [
    "print(zero_shot_agent.agent.llm_chain.prompt.template)"
   ]
  },
  {
   "cell_type": "code",
   "execution_count": 16,
   "id": "114df2eb-72b1-45d5-8949-020a370ba6dd",
   "metadata": {},
   "outputs": [
    {
     "name": "stdout",
     "output_type": "stream",
     "text": [
      "\n",
      "\n",
      "\u001b[1m> Entering new AgentExecutor chain...\u001b[0m\n",
      "\u001b[32;1m\u001b[1;3m I need to find out when Barak Obama was born.\n",
      "Action: Wikipedia\n",
      "Action Input: Barak Obama\u001b[0m\n",
      "Observation: \u001b[33;1m\u001b[1;3mPage: Barack Obama\n",
      "Summary: Barack Hussein Obama II (  bə-RAHK hoo-SAYN oh-BAH-mə; born August 4, 1961) is an American politician who served as the 44th president of the United States from 2009 to 2017. A member of the Democratic Party, he was the first African-American  president. Obama previously served as a U.S. senator representing Illinois from 2005 to 2008 and as an Illinois state senator from 1997 to 2004, and worked as a civil rights lawyer and university lecturer. \n",
      "Obama was born in Honolulu, Hawaii. He attended Occidental College from 1979 to 1981 and transferred to finished his undergraduate studies at Columbia University from 1981 to 1983. After graduating from Columbia University in 1983, he worked as a community organizer in Chicago. In 1988, he enrolled in Harvard Law School, where he was the first black president of the Harvard Law Review. After graduating, he became a civil rights attorney and an academic, teaching constitutional law at the University of Chicago Law School from 1992 to 2004. Turning to elective politics, he represented the 13th district in the Illinois Senate from 1997 until 2004, when he successfully ran for the U.S. Senate. In 2008, after a close primary campaign against Hillary Clinton, he was nominated by the Democratic Party for president and chose Joe Biden as his running mate. Obama was elected president, defeating Republican nominee John McCain in the presidential election and was inaugurated on January 20, 2009. Nine months later, he was named the 2009 Nobel Peace Prize laureate, a decision that drew a mixture of praise and criticism.\n",
      "Obama's first-term actions addressed the global financial crisis and included a major stimulus package to guide the economy to recover from the Great Recession, a partial extension of George W. Bush's tax cuts, legislation to reform health care, a major financial regulation reform bill, and the end of a major U.S. military presence in Iraq. Obama also appointed Supreme Court justices Sonia Sotomayor and Elena Kagan, the former being the first Hispanic American on the Supreme Court. He ordered the counterterrorism raid which killed Osama bin Laden and downplayed Bush's counterinsurgency model, expanding air strikes and making extensive use of special forces while encouraging greater reliance on host-government militaries. Obama also ordered military involvement in Libya in order to implement UN Security Council Resolution 1973, contributing to the overthrow of Muammar Gaddafi.\n",
      "After winning re-election by defeating Republican opponent Mitt Romney, Obama was sworn in for a second term on January 20, 2013. In his second term, Obama took steps to combat climate change, signing a major international climate agreement and an executive order to limit carbon emissions. Obama also presided over the implementation of the Affordable Care Act and other legislation passed in his first term, and he negotiated a nuclear agreement with Iran and normalized relations with Cuba. The number of American soldiers in Afghanistan fell dramatically during Obama's second term, though U.S. soldiers remained in the country throughout Obama's presidency. Obama promoted inclusion for LGBT Americans, culminating in the Supreme Court's decision to strike down same-sex marriage bans as unconstitutional in Obergefell v. Hodges.\n",
      "Obama left office on January 20, 2017, and continues to reside in Washington, D.C. His presidential library in Chicago began construction in 2021. Since leaving office, Obama has remained active in Democratic politics, including campaigning for candidates in various American elections. Outside of politics, Obama has published three bestselling books: Dreams from My Father (1995), The Audacity of Hope (2006) and A Promised Land (2020). Rankings by scholars and historians, in which he has been featured since 2010, place him in the middle to upper tier of American presidents.\n",
      "\n",
      "Page: Presidential transition of Barack Obama\n",
      "Summary: The presidential transition of Barac\u001b[0m\n",
      "Thought:\u001b[32;1m\u001b[1;3m I now know the final answer\n",
      "Final Answer: Barack Obama was born on August 4, 1961.\u001b[0m\n",
      "\n",
      "\u001b[1m> Finished chain.\u001b[0m\n"
     ]
    },
    {
     "data": {
      "text/plain": [
       "'Barack Obama was born on August 4, 1961.'"
      ]
     },
     "execution_count": 16,
     "metadata": {},
     "output_type": "execute_result"
    }
   ],
   "source": [
    "zero_shot_agent.run(\"When was Barak Obama born?\")"
   ]
  },
  {
   "cell_type": "code",
   "execution_count": 30,
   "id": "637c7cc4-277a-462d-aa13-725b069daadc",
   "metadata": {},
   "outputs": [
    {
     "name": "stdout",
     "output_type": "stream",
     "text": [
      "\n",
      "\n",
      "\u001b[1m> Entering new AgentExecutor chain...\u001b[0m\n",
      "\u001b[32;1m\u001b[1;3m I need to do a calculation\n",
      "Action: Python REPL\n",
      "Action Input: 17*6\u001b[0m\n",
      "Observation: \u001b[36;1m\u001b[1;3m\u001b[0m\n",
      "Thought:\u001b[32;1m\u001b[1;3m I now know the final answer\n",
      "Final Answer: 102\u001b[0m\n",
      "\n",
      "\u001b[1m> Finished chain.\u001b[0m\n"
     ]
    },
    {
     "data": {
      "text/plain": [
       "'102'"
      ]
     },
     "execution_count": 30,
     "metadata": {},
     "output_type": "execute_result"
    }
   ],
   "source": [
    "zero_shot_agent.run(\"What is 17*6?\")"
   ]
  },
  {
   "cell_type": "code",
   "execution_count": 32,
   "id": "f0dd9635-12de-4215-8344-77cc2ee11d27",
   "metadata": {},
   "outputs": [
    {
     "name": "stdout",
     "output_type": "stream",
     "text": [
      "\n",
      "\n",
      "\u001b[1m> Entering new AgentExecutor chain...\u001b[0m\n",
      "\u001b[32;1m\u001b[1;3m I should look up LangChain on the internet\n",
      "Action: DuckDuckGo Search\n",
      "Action Input: \"LangChain\"\u001b[0m\n",
      "Observation: \u001b[38;5;200m\u001b[1;3m🦜️🔗 LangChain. ⚡ Building applications with LLMs through composability ⚡. Looking for the JS/TS version? Check out LangChain.js.. Production Support: As you move your LangChains into production, we'd love to offer more hands-on support. Fill out this form to share more about what you're building, and our team will get in touch.. 🚨Breaking Changes for select chains (SQLDatabase ... LangChain is an SDK designed to simplify the integration of LLMs and applications. It solves most of the challenges that we discussed above. LangChain is similar to an ODBC or JDBC driver, which ... LangChain is an open-source Python library that enables anyone who can write code to build LLM-powered applications. The package provides a generic interface to many foundation models, enables prompt management, and acts as a central interface to other components like prompt templates, other LLMs, external data, and other tools via agents ... LangChain is a software framework designed to help create applications that utilize large language models (LLMs). LangChain's strength lies in its wide array of integrations and capabilities. It includes API wrappers, web scraping subsystems, code analysis tools, document summarization tools, and more. It also supports large language models ... LangChain is a powerful framework designed to help developers build end-to-end applications using language models. It offers a suite of tools, components, and interfaces that simplify the process of creating applications powered by large language models (LLMs) and chat models. LangChain makes it easy to manage interactions with language models ...\u001b[0m\n",
      "Thought:\u001b[32;1m\u001b[1;3m I now know the final answer\n",
      "Final Answer: LangChain is an open-source Python library that enables anyone who can write code to build LLM-powered applications. It includes API wrappers, web scraping subsystems, code analysis tools, document summarization tools, and more. It also supports large language models and offers a suite of tools, components, and interfaces that simplify the process of creating applications powered by large language models (LLMs) and chat models.\u001b[0m\n",
      "\n",
      "\u001b[1m> Finished chain.\u001b[0m\n"
     ]
    },
    {
     "data": {
      "text/plain": [
       "'LangChain is an open-source Python library that enables anyone who can write code to build LLM-powered applications. It includes API wrappers, web scraping subsystems, code analysis tools, document summarization tools, and more. It also supports large language models and offers a suite of tools, components, and interfaces that simplify the process of creating applications powered by large language models (LLMs) and chat models.'"
      ]
     },
     "execution_count": 32,
     "metadata": {},
     "output_type": "execute_result"
    }
   ],
   "source": [
    "zero_shot_agent.run(\"Tell me about LangChain\")"
   ]
  },
  {
   "cell_type": "code",
   "execution_count": 34,
   "id": "57bd9555-cbe8-43d3-b679-5861fdfd6218",
   "metadata": {},
   "outputs": [
    {
     "name": "stdout",
     "output_type": "stream",
     "text": [
      "\n",
      "\n",
      "\u001b[1m> Entering new AgentExecutor chain...\u001b[0m\n",
      "\u001b[32;1m\u001b[1;3m I should look up Brazil on Wikipedia\n",
      "Action: Wikipedia\n",
      "Action Input: Brazil\u001b[0m\n",
      "Observation: \u001b[33;1m\u001b[1;3mPage: Brazil\n",
      "Summary: Brazil (Portuguese: Brasil; Brazilian Portuguese: [bɾaˈziw] ), officially the Federative Republic of Brazil (Portuguese: ), is the largest country in South America and in Latin America. Brazil is the world's fifth-largest country by area and the seventh most populous. Its capital is Brasília, and its most populous city is São Paulo. The federation is composed of the union of the 26 states and the Federal District. It is the only country in the Americas to have Portuguese as an official language. It is one of the most multicultural and ethnically diverse nations, due to over a century of mass immigration from around the world, and the most populous Roman Catholic-majority country.\n",
      "Bounded by the Atlantic Ocean on the east, Brazil has a coastline of 7,491 kilometers (4,655 mi). It borders all other countries and territories in South America except Ecuador and Chile and covers roughly half of the continent's land area. Its Amazon basin includes a vast tropical forest, home to diverse wildlife, a variety of ecological systems, and extensive natural resources spanning numerous protected habitats. This unique environmental heritage positions Brazil at number one of 17 megadiverse countries, and is the subject of significant global interest, as environmental degradation through processes like deforestation has direct impacts on global issues like climate change and biodiversity loss.\n",
      "The territory which would become known as Brazil was inhabited by numerous tribal nations prior to the landing in 1500 of explorer Pedro Álvares Cabral, who claimed the discovered land for the Portuguese Empire. Brazil remained a Portuguese colony until 1808 when the capital of the empire was transferred from Lisbon to Rio de Janeiro. In 1815, the colony was elevated to the rank of kingdom upon the formation of the United Kingdom of Portugal, Brazil and the Algarves. Independence was achieved in 1822 with the creation of the Empire of Brazil, a unitary state governed under a constitutional monarchy and a parliamentary system. The ratification of the first constitution in 1824 led to the formation of a bicameral legislature, now called the National Congress. Slavery was abolished in 1888. The country became a presidential republic in 1889 following a military coup d'état. An authoritarian military dictatorship emerged in 1964 and ruled until 1985, after which civilian governance resumed. Brazil's current constitution, formulated in 1988, defines it as a democratic federal republic. Due to its rich culture and history, the country ranks thirteenth in the world by number of UNESCO World Heritage Sites.Brazil is a regional and middle power and is also classified as an emerging power. Categorised as a developing country with a high Human Development Index, Brazil is considered an advanced emerging economy, having the tenth largest GDP in the world by nominal, and eighth by PPP measures, the largest in Latin America. As an upper-middle income economy by the World Bank and a newly industrialized country, Brazil has the largest share of global wealth in South America and it is one of the world's major breadbaskets, being the largest producer of coffee for the last 150 years. However, the country retains noticeable corruption, crime and social inequality. Brazil is a founding member of the United Nations, the G20, BRICS, Mercosul, Organization of American States, Organization of Ibero-American States and the Community of Portuguese Language Countries. Brazil is also an Observer State of the Arab League.\n",
      "\n",
      "\n",
      "\n",
      "Page: Brazil national football team\n",
      "Summary: The Brazil men's national football team (Portuguese: Seleção Brasileira de Futebol), nicknamed Seleção Canarinha (\"Canary Squad\", after their bright yellow jersey), represents Brazil in men's international football and is administered by the Brazilian Football Confederation (CBF), the governing body for football in Brazil. They have been a member of FIFA since 1923 and a member of CONMEBOL since\u001b[0m\n",
      "Thought:\u001b[32;1m\u001b[1;3m I now know the final answer\n",
      "Final Answer: Brazil is the largest country in South America and in Latin America. It is the world's fifth-largest country by area and the seventh most populous. It has Portuguese as an official language and is one of the most multicultural and ethnically diverse nations. It is also home to the Brazil men's national football team, which is administered by the Brazilian Football Confederation.\u001b[0m\n",
      "\n",
      "\u001b[1m> Finished chain.\u001b[0m\n"
     ]
    },
    {
     "data": {
      "text/plain": [
       "\"Brazil is the largest country in South America and in Latin America. It is the world's fifth-largest country by area and the seventh most populous. It has Portuguese as an official language and is one of the most multicultural and ethnically diverse nations. It is also home to the Brazil men's national football team, which is administered by the Brazilian Football Confederation.\""
      ]
     },
     "execution_count": 34,
     "metadata": {},
     "output_type": "execute_result"
    }
   ],
   "source": [
    "zero_shot_agent.run(\"Tell me about the country Brazil\")"
   ]
  },
  {
   "cell_type": "code",
   "execution_count": 35,
   "id": "bef0e373-71c7-4f5e-851f-7a60d3592718",
   "metadata": {},
   "outputs": [
    {
     "name": "stdout",
     "output_type": "stream",
     "text": [
      "\n",
      "\n",
      "\u001b[1m> Entering new AgentExecutor chain...\u001b[0m\n",
      "\u001b[32;1m\u001b[1;3m I need to write a function to check if a number is prime\n",
      "Action: Python REPL\n",
      "Action Input: \n",
      "def is_prime(n):\n",
      "    if n <= 1:\n",
      "        return False\n",
      "    for i in range(2, n):\n",
      "        if n % i == 0:\n",
      "            return False\n",
      "    return True\u001b[0m\n",
      "Observation: \u001b[36;1m\u001b[1;3m\u001b[0m\n",
      "Thought:\u001b[32;1m\u001b[1;3m I need to test the function\n",
      "Action: Python REPL\n",
      "Action Input: \n",
      "print(is_prime(11))\u001b[0m\n",
      "Observation: \u001b[36;1m\u001b[1;3mTrue\n",
      "\u001b[0m\n",
      "Thought:\u001b[32;1m\u001b[1;3m I now know the final answer\n",
      "Final Answer: 11 is a prime number.\u001b[0m\n",
      "\n",
      "\u001b[1m> Finished chain.\u001b[0m\n"
     ]
    },
    {
     "data": {
      "text/plain": [
       "'11 is a prime number.'"
      ]
     },
     "execution_count": 35,
     "metadata": {},
     "output_type": "execute_result"
    }
   ],
   "source": [
    "zero_shot_agent.run('Write a function to check if 11 a prime number and test it')"
   ]
  },
  {
   "cell_type": "code",
   "execution_count": 36,
   "id": "23b11915-e4fb-48cd-ab91-33e405a30334",
   "metadata": {},
   "outputs": [
    {
     "name": "stdout",
     "output_type": "stream",
     "text": [
      "\n",
      "\n",
      "\u001b[1m> Entering new AgentExecutor chain...\u001b[0m\n",
      "\u001b[32;1m\u001b[1;3m I need to research this topic\n",
      "Action: Wikipedia\n",
      "Action Input: Rhodolith bed\u001b[0m\n",
      "Observation: \u001b[33;1m\u001b[1;3mPage: Rhodolith\n",
      "Summary: Rhodoliths (from Greek for red rocks) are colorful, unattached calcareous nodules, composed of crustose, benthic marine red algae that resemble coral. Rhodolith beds create biogenic habitat for diverse benthic communities. The rhodolithic growth habit has been attained by a number of unrelated coralline red algae, organisms that deposit calcium carbonate within their cell walls to form hard structures or nodules that resemble beds of coral. \n",
      "Rhodoliths do not attach themselves to the rocky seabed. Rather, they roll like tumbleweeds along the seafloor until they become too large in size to be mobilised by the prevailing wave and current regime. They may then become incorporated into a semi-continuous algal mat or form an algal build-up. While corals are animals that are both autotrophic (photosynthesize via their symbionts) or heterotrophic (feeding on plankton), rhodoliths produce energy solely through photosynthesis (i.e. they can only grow and survive in the photic zone of the ocean).\n",
      "Scientists believe rhodoliths have been present in the world's oceans since at least the Eocene epoch, some 55 million years ago.\n",
      "\n",
      "\n",
      "\n",
      "Page: Maerl\n",
      "Summary: Maerl (also rhodolith) is a collective name for non-geniculate coralline red algae with a certain growth habit. Maerl grows at a rate of c. 1 mm per year. It accumulates as unattached particles and forms extensive beds in suitable sublittoral sites.  The term maerl originally refers to the branched growth form of Lemoine (1910) and rhodolith is a sedimentological or genetic term for both the nodular and branched growth forms (Basso et al., 2015).\n",
      "\n",
      "Page: Laminaria abyssalis\n",
      "Summary: Laminaria abyssalis is a species of brown kelp, notable for its connection to rhodolith beds in the Brazilian coastline.\u001b[0m\n",
      "Thought:\u001b[32;1m\u001b[1;3m I now know the final answer\n",
      "Final Answer: Rhodolith beds are composed of crustose, benthic marine red algae that resemble coral. They create biogenic habitat for diverse benthic communities and do not attach themselves to the rocky seabed. They have been present in the world's oceans since at least the Eocene epoch, some 55 million years ago. Maerl is a collective name for non-geniculate coralline red algae with a certain growth habit and Laminaria abyssalis is a species of brown kelp, notable for its connection to rhodolith beds in the Brazilian coastline.\u001b[0m\n",
      "\n",
      "\u001b[1m> Finished chain.\u001b[0m\n"
     ]
    },
    {
     "data": {
      "text/plain": [
       "\"Rhodolith beds are composed of crustose, benthic marine red algae that resemble coral. They create biogenic habitat for diverse benthic communities and do not attach themselves to the rocky seabed. They have been present in the world's oceans since at least the Eocene epoch, some 55 million years ago. Maerl is a collective name for non-geniculate coralline red algae with a certain growth habit and Laminaria abyssalis is a species of brown kelp, notable for its connection to rhodolith beds in the Brazilian coastline.\""
      ]
     },
     "execution_count": 36,
     "metadata": {},
     "output_type": "execute_result"
    }
   ],
   "source": [
    "zero_shot_agent.run('Explain to me the main aspects of a rhodolith bed')"
   ]
  }
 ],
 "metadata": {
  "kernelspec": {
   "display_name": "Python 3 (ipykernel)",
   "language": "python",
   "name": "python3"
  },
  "language_info": {
   "codemirror_mode": {
    "name": "ipython",
    "version": 3
   },
   "file_extension": ".py",
   "mimetype": "text/x-python",
   "name": "python",
   "nbconvert_exporter": "python",
   "pygments_lexer": "ipython3",
   "version": "3.8.13"
  }
 },
 "nbformat": 4,
 "nbformat_minor": 5
}
