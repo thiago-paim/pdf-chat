{
 "cells": [
  {
   "cell_type": "markdown",
   "id": "6cde2ab8-5a33-4c30-a0bf-aefe2018ea08",
   "metadata": {},
   "source": [
    "Source: https://python.langchain.com/docs/use_cases/more/agents/autonomous_agents/baby_agi"
   ]
  },
  {
   "cell_type": "code",
   "execution_count": 1,
   "id": "4f5412b7-7248-4635-9ce7-ae529511b6d1",
   "metadata": {},
   "outputs": [],
   "source": [
    "# Loads .env variables\n",
    "%load_ext dotenv\n",
    "%dotenv"
   ]
  },
  {
   "cell_type": "code",
   "execution_count": 2,
   "id": "40ace692-29fc-4f3a-9f0f-004a7bfe7d6e",
   "metadata": {},
   "outputs": [],
   "source": [
    "from langchain.llms import OpenAI\n",
    "from langchain.embeddings import OpenAIEmbeddings\n",
    "from langchain.vectorstores import FAISS\n",
    "from langchain.docstore import InMemoryDocstore\n",
    "from langchain_experimental.autonomous_agents import BabyAGI"
   ]
  },
  {
   "cell_type": "markdown",
   "id": "5bfb5c4b-eac7-465b-8106-c0fda6e95a44",
   "metadata": {},
   "source": [
    "## Define your Vector Store"
   ]
  },
  {
   "cell_type": "code",
   "execution_count": 3,
   "id": "ca725b35-2f3e-45da-b88d-012b8910081e",
   "metadata": {},
   "outputs": [],
   "source": [
    "# Define your embedding model\n",
    "embeddings_model = OpenAIEmbeddings()\n",
    "# Initialize the vectorstore as empty\n",
    "import faiss\n",
    "\n",
    "embedding_size = 1536\n",
    "index = faiss.IndexFlatL2(embedding_size)\n",
    "vectorstore = FAISS(embeddings_model.embed_query, index, InMemoryDocstore({}), {})"
   ]
  },
  {
   "cell_type": "markdown",
   "id": "6cd6dd7f-0f14-4931-a15c-6c6b862f87b7",
   "metadata": {},
   "source": [
    "## Run the BabyAGI"
   ]
  },
  {
   "cell_type": "code",
   "execution_count": 4,
   "id": "4b710151-0938-4164-beaf-0d4fb9a05500",
   "metadata": {},
   "outputs": [],
   "source": [
    "llm = OpenAI(temperature=0)\n",
    "verbose = False  # Logging of LLMChains\n",
    "max_iterations = 3  # If None, will keep on going forever\n",
    "\n",
    "baby_agi = BabyAGI.from_llm(\n",
    "    llm=llm, \n",
    "    vectorstore=vectorstore, \n",
    "    verbose=verbose, \n",
    "    max_iterations=max_iterations\n",
    ")"
   ]
  },
  {
   "cell_type": "code",
   "execution_count": 5,
   "id": "335302b8-efdb-4022-9a37-8e67fe38408c",
   "metadata": {},
   "outputs": [
    {
     "name": "stdout",
     "output_type": "stream",
     "text": [
      "\u001b[95m\u001b[1m\n",
      "*****TASK LIST*****\n",
      "\u001b[0m\u001b[0m\n",
      "1: Make a todo list\n",
      "\u001b[92m\u001b[1m\n",
      "*****NEXT TASK*****\n",
      "\u001b[0m\u001b[0m\n",
      "1: Make a todo list\n",
      "\u001b[93m\u001b[1m\n",
      "*****TASK RESULT*****\n",
      "\u001b[0m\u001b[0m\n",
      "\n",
      "\n",
      "1. Check the current temperature in Recife.\n",
      "2. Check the current humidity in Recife.\n",
      "3. Check the current wind speed in Recife.\n",
      "4. Check the current precipitation in Recife.\n",
      "5. Check the current cloud cover in Recife.\n",
      "6. Check the current UV index in Recife.\n",
      "7. Check the current air pressure in Recife.\n",
      "8. Check the current visibility in Recife.\n",
      "9. Check the current sunrise and sunset times in Recife.\n",
      "10. Compile the data into a weather report for Recife.\n",
      "\u001b[95m\u001b[1m\n",
      "*****TASK LIST*****\n",
      "\u001b[0m\u001b[0m\n",
      "2: Find the current temperature in Recife.\n",
      "3: Find the current humidity in Recife.\n",
      "4: Find the current wind speed in Recife.\n",
      "5: Find the current precipitation in Recife.\n",
      "6: Find the current cloud cover in Recife.\n",
      "7: Find the current UV index in Recife.\n",
      "8: Find the current air pressure in Recife.\n",
      "9: Find the current visibility in Recife.\n",
      "10: Find the current sunrise and sunset times in Recife.\n",
      "11: Analyze the data and create a weather report for Recife.\n",
      "\u001b[92m\u001b[1m\n",
      "*****NEXT TASK*****\n",
      "\u001b[0m\u001b[0m\n",
      "2: Find the current temperature in Recife.\n",
      "\u001b[93m\u001b[1m\n",
      "*****TASK RESULT*****\n",
      "\u001b[0m\u001b[0m\n",
      "\n",
      "\n",
      "The current temperature in Recife, Brazil is 28°C (82°F).\n",
      "\u001b[95m\u001b[1m\n",
      "*****TASK LIST*****\n",
      "\u001b[0m\u001b[0m\n",
      "3: Find the current precipitation in Recife.\n",
      "4: Find the current cloud cover in Recife.\n",
      "5: Find the current UV index in Recife.\n",
      "6: Find the current air pressure in Recife.\n",
      "7: Find the current visibility in Recife.\n",
      "8: Find the current sunrise and sunset times in Recife.\n",
      "9: Analyze the data and create a weather report for Recife.\n",
      "10: Compare the current weather conditions in Recife to the historical average.\n",
      "11: Identify any weather warnings or advisories in effect for Recife.\n",
      "12: Identify any potential weather-related hazards in Recife.\n",
      "13: Identify any potential health risks associated with the current weather conditions in Recife.\n",
      "14: Identify any potential impacts of the current weather conditions on local businesses and industries in Recife.\n",
      "1: Find the current humidity in Recife.\n",
      "2: Find the current wind speed in Recife.\n",
      "\u001b[92m\u001b[1m\n",
      "*****NEXT TASK*****\n",
      "\u001b[0m\u001b[0m\n",
      "3: Find the current precipitation in Recife.\n",
      "\u001b[93m\u001b[1m\n",
      "*****TASK RESULT*****\n",
      "\u001b[0m\u001b[0m\n",
      "\n",
      "\n",
      "The current precipitation in Recife is light rain. According to the latest weather report, the city is experiencing light rain with a temperature of 28°C (82°F).\n",
      "\u001b[91m\u001b[1m\n",
      "*****TASK ENDING*****\n",
      "\u001b[0m\u001b[0m\n"
     ]
    },
    {
     "data": {
      "text/plain": [
       "{'objective': 'Write a weather report for Recife (Brazil) today'}"
      ]
     },
     "execution_count": 5,
     "metadata": {},
     "output_type": "execute_result"
    }
   ],
   "source": [
    "OBJECTIVE = \"Write a weather report for Recife (Brazil) today\"\n",
    "baby_agi({\"objective\": OBJECTIVE})"
   ]
  }
 ],
 "metadata": {
  "kernelspec": {
   "display_name": "Python 3 (ipykernel)",
   "language": "python",
   "name": "python3"
  },
  "language_info": {
   "codemirror_mode": {
    "name": "ipython",
    "version": 3
   },
   "file_extension": ".py",
   "mimetype": "text/x-python",
   "name": "python",
   "nbconvert_exporter": "python",
   "pygments_lexer": "ipython3",
   "version": "3.8.13"
  }
 },
 "nbformat": 4,
 "nbformat_minor": 5
}
